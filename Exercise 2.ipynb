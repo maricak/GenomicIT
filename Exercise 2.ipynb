{
 "cells": [
  {
   "cell_type": "markdown",
   "metadata": {},
   "source": [
    "# Exercise 2: Pysam - CGC Interactive analysis\n",
    "\n",
    "**Create an `AlignmentFile` object for “merged-tumor.bam” from Public files gallery**"
   ]
  },
  {
   "cell_type": "code",
   "execution_count": 108,
   "metadata": {},
   "outputs": [],
   "source": [
    "import pysam\n",
    "alignmentFile = pysam.AlignmentFile(\"/sbgenomics/project-files/merged-tumor.bam\", \"rb\");\n",
    "\n",
    "# This will be necessary for later calucations.\n",
    "sum_quality = sum(map(lambda read: read.mapping_quality, alignmentFile)) "
   ]
  },
  {
   "cell_type": "markdown",
   "metadata": {},
   "source": [
    "**Take the first read from the `AlignmentFile`**"
   ]
  },
  {
   "cell_type": "code",
   "execution_count": 109,
   "metadata": {},
   "outputs": [],
   "source": [
    "firstRead = next(alignmentFile.head(1))"
   ]
  },
  {
   "cell_type": "markdown",
   "metadata": {},
   "source": [
    "**Inspect the fields in the `AlignedSegment`**"
   ]
  },
  {
   "cell_type": "code",
   "execution_count": 110,
   "metadata": {},
   "outputs": [
    {
     "name": "stdout",
     "output_type": "stream",
     "text": [
      "C0HVYACXX120402:7:1207:5722:57044\t1187\t20\t9483248\t27\t76M\t20\t9483381\t76\tTTTTCAAACAGTATCTATGCCTGCCAAATGTGAACATATAAAAAAAAACCAGAATGTGCCATTCTGATTTAAACTG\tarray('B', [28, 28, 27, 29, 31, 30, 31, 31, 29, 31, 35, 30, 29, 31, 34, 30, 29, 23, 41, 32, 20, 30, 29, 34, 34, 29, 30, 31, 30, 30, 30, 33, 33, 26, 39, 12, 25, 19, 32, 30, 35, 28, 35, 33, 23, 33, 35, 36, 30, 38, 33, 41, 34, 35, 31, 33, 23, 30, 30, 36, 27, 32, 29, 34, 35, 41, 33, 31, 33, 29, 32, 32, 31, 31, 31, 34])\t[('XA', 'GL000217.1,-110754,76M,1;'), ('BD', 'NNNNNNNNNNNNNNNNNNNNNNNNNNNNNNNNNNNNNNNNNNNNNNNNNNNNNNNNNNNNNNNNNNNNNNNNNNNN'), ('MD', '76'), ('RG', '1'), ('BI', 'NNNNNNNNNNNNNNNNNNNNNNNNNNNNNNNNNNNNNNNNNNNNNNNNNNNNNNNNNNNNNNNNNNNNNNNNNNNN'), ('NM', 0), ('MQ', 27), ('AS', 76), ('XS', 71)]\n",
      "\n",
      "\n",
      "QNAME:  C0HVYACXX120402:7:1207:5722:57044\n",
      "FLAG:  1187\n",
      "POS:  9483248\n",
      "MAPQ:  27\n",
      "CIGAR:  76M\n",
      "CIGAR:  [(0, 76)]\n",
      "MPOS:  9483381\n",
      "ISIZE:  209\n",
      "SEQ:  TTTTCAAACAGTATCTATGCCTGCCAAATGTGAACATATAAAAAAAAACCAGAATGTGCCATTCTGATTTAAACTG\n"
     ]
    }
   ],
   "source": [
    "print(firstRead)\n",
    "print(\"\\n\")\n",
    "print(\"QNAME: \", firstRead.query_name )\n",
    "print(\"FLAG: \", firstRead.flag)\n",
    "print(\"POS: \", firstRead.pos) #reference_pos\n",
    "print(\"MAPQ: \", firstRead.mapping_quality )\n",
    "print(\"CIGAR: \", firstRead.cigarstring)\n",
    "print(\"CIGAR: \", firstRead.cigartuples )\n",
    "print(\"MPOS: \", firstRead.next_reference_start )\n",
    "print(\"ISIZE: \", firstRead.template_length )\n",
    "print(\"SEQ: \", firstRead.query_sequence )"
   ]
  },
  {
   "cell_type": "markdown",
   "metadata": {},
   "source": [
    "**Inspect the flag field**"
   ]
  },
  {
   "cell_type": "code",
   "execution_count": 111,
   "metadata": {},
   "outputs": [
    {
     "name": "stdout",
     "output_type": "stream",
     "text": [
      "Flag: 1187\n"
     ]
    }
   ],
   "source": [
    "print(\"Flag:\", firstRead.flag)"
   ]
  },
  {
   "cell_type": "markdown",
   "metadata": {},
   "source": [
    "**Check out the [flag for some reads](https://broadinstitute.github.io/picard/explain-flags.html):**\n",
    "- read paired (0x1)\n",
    "- read mapped in proper pair (0x2)\n",
    "- mate reverse strand (0x20)\n",
    "- second in pair (0x80)\n",
    "- read is PCR or optical duplicate (0x400)\n",
    "\n"
   ]
  },
  {
   "cell_type": "markdown",
   "metadata": {},
   "source": [
    "**How many unmapped reads are in the file?**"
   ]
  },
  {
   "cell_type": "code",
   "execution_count": 112,
   "metadata": {},
   "outputs": [
    {
     "name": "stdout",
     "output_type": "stream",
     "text": [
      "Number of unmapped reads: 17765\n"
     ]
    }
   ],
   "source": [
    "count_unmapped_reads = alignmentFile.count(read_callback=lambda read: read.is_unmapped)\n",
    "print(\"Number of unmapped reads:\", count_unmapped_reads)"
   ]
  },
  {
   "cell_type": "markdown",
   "metadata": {},
   "source": [
    "**Total number of reads**"
   ]
  },
  {
   "cell_type": "code",
   "execution_count": 113,
   "metadata": {},
   "outputs": [
    {
     "name": "stdout",
     "output_type": "stream",
     "text": [
      "Total number of reads: 2921629\n"
     ]
    }
   ],
   "source": [
    "count_total_reads = alignmentFile.count()\n",
    "print(\"Total number of reads:\", count_total_reads)"
   ]
  },
  {
   "cell_type": "markdown",
   "metadata": {},
   "source": [
    "**Number of reads with mapping quality 0**"
   ]
  },
  {
   "cell_type": "code",
   "execution_count": 114,
   "metadata": {},
   "outputs": [
    {
     "name": "stdout",
     "output_type": "stream",
     "text": [
      "Number of reads with quality zero: 126628\n"
     ]
    }
   ],
   "source": [
    "count_reads_quality_zero = alignmentFile.count(read_callback=lambda read: read.mapping_quality == 0)\n",
    "print(\"Number of reads with quality zero:\", count_reads_quality_zero)"
   ]
  },
  {
   "cell_type": "markdown",
   "metadata": {},
   "source": [
    "**Average mapping quality for all the reads**"
   ]
  },
  {
   "cell_type": "code",
   "execution_count": 115,
   "metadata": {},
   "outputs": [
    {
     "name": "stdout",
     "output_type": "stream",
     "text": [
      "Average mapping quality for all reads: 55.91379158681681\n"
     ]
    }
   ],
   "source": [
    "# sum_quality = sum(map(lambda read: read.mapping_quality, alignmentFile)) -- Must be executed before calls to the count() method. Executed in the first cell.\n",
    "average_mapping_quality = sum_quality / count_total_reads\n",
    "print(\"Average mapping quality for all reads:\", average_mapping_quality)"
   ]
  },
  {
   "cell_type": "markdown",
   "metadata": {},
   "source": [
    "**Average mapping quality if reads with 0 mapping quality are filtered out**"
   ]
  },
  {
   "cell_type": "code",
   "execution_count": 116,
   "metadata": {},
   "outputs": [
    {
     "name": "stdout",
     "output_type": "stream",
     "text": [
      "Average mapping quality for reads with mapping quality greater than 0: 58.446975510921106\n"
     ]
    }
   ],
   "source": [
    "average_filtered_mapping_quality = sum_quality / (count_total_reads - count_reads_quality_zero)\n",
    "print(\"Average mapping quality for reads with mapping quality greater than 0:\", average_filtered_mapping_quality)"
   ]
  },
  {
   "cell_type": "code",
   "execution_count": 117,
   "metadata": {},
   "outputs": [],
   "source": [
    "alignmentFile.close()"
   ]
  }
 ],
 "metadata": {
  "kernelspec": {
   "display_name": "Python 3",
   "language": "python",
   "name": "python3"
  },
  "language_info": {
   "codemirror_mode": {
    "name": "ipython",
    "version": 3
   },
   "file_extension": ".py",
   "mimetype": "text/x-python",
   "name": "python",
   "nbconvert_exporter": "python",
   "pygments_lexer": "ipython3",
   "version": "3.7.4"
  }
 },
 "nbformat": 4,
 "nbformat_minor": 2
}
